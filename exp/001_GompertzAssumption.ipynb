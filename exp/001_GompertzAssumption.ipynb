{
 "cells": [
  {
   "cell_type": "markdown",
   "id": "6c1b29a10e92d497",
   "metadata": {
    "id": "6c1b29a10e92d497"
   },
   "source": [
    "# Predicting most Efficient Interventions for Life Span Increase\n",
    "#### Data Literacy at University of Tübingen, Winter 2023/24\n",
    "\n",
    "---\n",
    "&copy; Daniel Flat, Jackson Harmon, Eric Nazarenus, Aline Bittler 2024. [CC BY-SA 4.0](https://creativecommons.org/licenses/by-sa/4.0/)\n",
    "\n",
    "Template by Philipp Hennig, 2023. [CC BY-SA 4.0](https://creativecommons.org/licenses/by-sa/4.0/)"
   ]
  },
  {
   "cell_type": "code",
   "execution_count": null,
   "id": "bb4330ef3d63d1b8",
   "metadata": {
    "id": "bb4330ef3d63d1b8"
   },
   "outputs": [],
   "source": [
    "import pandas as pd\n",
    "import matplotlib.pyplot as plt\n",
    "import numpy as np\n",
    "import os\n",
    "from scipy.optimize import curve_fit\n",
    "from sklearn.metrics import r2_score, mean_squared_error\n",
    "from scipy.stats import linregress\n",
    "from dataclasses import dataclass\n",
    "from math import sqrt,floor\n",
    "from tueplots import bundles\n",
    "from src.GompertzMakeham import GompertzMakeham\n",
    "from src.GompertzMakeham import law_function"
   ]
  },
  {
   "cell_type": "code",
   "execution_count": null,
   "id": "b75c6445",
   "metadata": {
    "id": "b75c6445"
   },
   "outputs": [],
   "source": [
    "# Constants for columns\n",
    "DEATH_COLUMN = 'dead'\n",
    "RUNNING_MORALITY_PERCENTAGE_COLUMN = 'cumulative deaths %'\n",
    "PROBABILITY_OF_DEATH_PER_PERIOD_COLUMN = 'p(death per time period)'\n",
    "AGE_IN_DAYS_COLUMN = 'age(days)'\n",
    "\n",
    "# Human dataset columns\n",
    "HUMAN_AGE_IN_YEARS_COLUMN = 'Age'\n",
    "HUMAN_DEATHS_PER_YEAR_COLUMN = 'Total'\n",
    "\n",
    "# Set here which groups from the ITP1 data set to plot. When PLOT_ALL_GROUP is False, the results will only be shown for the regarding GROUP_KEY. If PLOT_ALL_GROUP is True, the results will be shown for all interventions. Warning: The notebook will be very huge if PLOT_ALL_GROUP is True\n",
    "GROUP_KEY = 'Control'\n",
    "PLOT_ALL_GROUP = False\n",
    "\n",
    "# Setting to set the y scale for the Gompertz-Makeham plots. Can be either log or linear scale.\n",
    "USE_LOG = False\n",
    "\n",
    "# time periods to bin mice by\n",
    "# 13 was chosen because it is the fixed\n",
    "# time period that made the data closest to having\n",
    "# sqrt(dataset size) bins for the control group\n",
    "mouse_bin_period_in_days = 13\n",
    "\n",
    "days_per_years = 365\n",
    "\n",
    "# tueplots settings\n",
    "COL_STATE = 'half'  #Set to 'half' for the plot in the paper, 'full' for better analysis of the data\n",
    "NROWS = 1\n",
    "NCOLS = 1\n",
    "USE_LATEX = False    #df: Somehow it doesn't work when USE_LATEX is True because \"RuntimeError: Failed to process string with tex because latex could not be found\". DIY\n",
    "\n",
    "plt.rcParams.update(bundles.icml2022(column=COL_STATE, nrows=NROWS, ncols=NCOLS, usetex=USE_LATEX))\n",
    "\n",
    "COLOR_MAP = [\"#ADD8E6\", \"#008000\", \"#FFD700\", \"#800080\", \"#FF7F50\", \"#40E0D0\", \"#708090\", \"#FF8C00\", \"#FF00FF\", \"#008080\"]\n",
    "\n",
    "# Dataset Paths\n",
    "HUMAN_LIFESPAN_DATASET_PATH = \"../dat/final_datasets/Lifespans_Humans.xlsx\"\n",
    "MOUSE_LIFESPAN_DATASET_PATH = \"../dat/final_datasets/Lifespans_ITP1.csv\""
   ]
  },
  {
   "cell_type": "code",
   "execution_count": null,
   "id": "a6b16bfc4cef85a7",
   "metadata": {
    "colab": {
     "base_uri": "https://localhost:8080/",
     "height": 562
    },
    "id": "a6b16bfc4cef85a7",
    "outputId": "0786468b-25e9-4b88-f10f-5f5ffd8d7f10"
   },
   "outputs": [],
   "source": [
    "df = pd.read_csv(\n",
    "    MOUSE_LIFESPAN_DATASET_PATH,\n",
    "    skiprows=0,\n",
    "    sep=\";\",\n",
    "    index_col=[0, 1],\n",
    "    skipfooter=0,\n",
    "    engine=\"python\",\n",
    "    decimal=\".\",\n",
    ")\n",
    "df"
   ]
  },
  {
   "cell_type": "code",
   "execution_count": null,
   "id": "9tkrMFLV8TTo",
   "metadata": {
    "id": "9tkrMFLV8TTo"
   },
   "outputs": [],
   "source": [
    "# Split dataset into intervention datasets\n",
    "# Here we put either all groups in the set or only the one group with the specified GROUP_KEY. Depends on the settings\n",
    "\n",
    "experiment_names = df['group'].unique()\n",
    "\n",
    "experiment_groups = {}\n",
    "for experiment_name in experiment_names:\n",
    "    if PLOT_ALL_GROUP:\n",
    "        experiment_group = df.loc[df['group'] == experiment_name].copy()\n",
    "        experiment_group = experiment_group.sort_values(by=[AGE_IN_DAYS_COLUMN]).copy()\n",
    "        \n",
    "        # ignore experiment groups with not enough data\n",
    "        if len(experiment_group) > 1:\n",
    "            experiment_groups[experiment_name] = experiment_group\n",
    "    elif experiment_name == GROUP_KEY:\n",
    "        experiment_group = df.loc[df['group'] == experiment_name].copy()\n",
    "        experiment_group = experiment_group.sort_values(by=[AGE_IN_DAYS_COLUMN]).copy()\n",
    "        \n",
    "        # ignore experiment groups with not enough data\n",
    "        if len(experiment_group) > 1:\n",
    "            experiment_groups[experiment_name] = experiment_group\n",
    "\n",
    "def map_over_experiments(experiment_groups, fn, *args):\n",
    "    return {name: fn(data, *args) for name, data in experiment_groups.items()}"
   ]
  },
  {
   "cell_type": "markdown",
   "id": "23362769-e230-4eff-9694-a02bf4d0e621",
   "metadata": {
    "id": "23362769-e230-4eff-9694-a02bf4d0e621"
   },
   "source": [
    "# Mouse Dataset Preprocessing (Bucketing)\n",
    "Here we bucket (or group) deaths in the mouse dataset into a bucket of a certain fixed time range (e.g. death in 0-9 days, 10-19 days, 20-29 days, etc.). We do this as the deaths are currently recorded as they occur which can occur at any length of time, thereby making the data less easily intepretable and less compatable with most human dataset"
   ]
  },
  {
   "cell_type": "code",
   "execution_count": null,
   "id": "34d0b1f4",
   "metadata": {
    "colab": {
     "base_uri": "https://localhost:8080/",
     "height": 455
    },
    "id": "34d0b1f4",
    "outputId": "d8e3fc36-787b-4a93-a2d9-85b9a71d39f7"
   },
   "outputs": [],
   "source": [
    "def group_same_ages(data) -> pd.DataFrame:\n",
    "    return data.groupby(AGE_IN_DAYS_COLUMN).sum()\n",
    "\n",
    "def group_ages(data: pd.DataFrame, bin_period_in_days: int) -> pd.DataFrame:\n",
    "    data = data[[DEATH_COLUMN, AGE_IN_DAYS_COLUMN]]\n",
    "\n",
    "    data = group_same_ages(data)\n",
    "\n",
    "    group_days_by_time_period = lambda x: (x // bin_period_in_days)\n",
    "    groupped_data_by_time_period = data.groupby(group_days_by_time_period).sum()\n",
    "\n",
    "    index_name = f'age(per {bin_period_in_days} days)'\n",
    "    groupped_data_by_time_period.index.name = index_name\n",
    "    return groupped_data_by_time_period\n",
    "\n",
    "\n",
    "experiment_dead_counts = map_over_experiments(experiment_groups, group_ages, mouse_bin_period_in_days)\n",
    "experiment_dead_counts[GROUP_KEY]"
   ]
  },
  {
   "cell_type": "markdown",
   "id": "4235666b-7991-4237-8ddf-2f5a3ee3c11c",
   "metadata": {
    "id": "4235666b-7991-4237-8ddf-2f5a3ee3c11c"
   },
   "source": [
    "# Mouse Dataset Preprocessing (Mortality Rate per Time Period)\n",
    "\n",
    "We follow this with computing the chance of death with a time period range. As an example, if there were 1,000 mice alive at *day 100* and 900 left at 110 days (with 10 being the bucket size of the histogram), then (1,000 - 900) / 1,000 = 10% would be the calculated chance of death. This ignores how many mice were alive initially at the start of the experiment for that particular calculation."
   ]
  },
  {
   "cell_type": "code",
   "execution_count": null,
   "id": "f8c26745-bc3b-4b78-ad76-376cbfdb4b40",
   "metadata": {
    "colab": {
     "base_uri": "https://localhost:8080/",
     "height": 424
    },
    "id": "f8c26745-bc3b-4b78-ad76-376cbfdb4b40",
    "outputId": "930e6e53-1cff-4f53-a3f9-266915d642b4"
   },
   "outputs": [],
   "source": [
    "def calculate_running_alive_counts(data: pd.DataFrame) -> pd.DataFrame:\n",
    "    total = calculate_total(data)\n",
    "    running_alive = total - data.cumsum()\n",
    "\n",
    "    # Start dataset with all alive and drop the last column to maintain same\n",
    "    # shape as before\n",
    "    running_alive.index += 1\n",
    "    running_alive = pd.concat([pd.DataFrame([total]), running_alive])[:-1]\n",
    "\n",
    "    return running_alive\n",
    "\n",
    "def calculate_total(data: pd.DataFrame) -> pd.DataFrame:\n",
    "    return data.sum()\n",
    "\n",
    "def compute_chance_of_death_per_time_period(dead_counts: pd.DataFrame,\n",
    "                                            running_alive_counts: pd.DataFrame) -> pd.DataFrame:\n",
    "    return dead_counts / (running_alive_counts + 1e-9)\n",
    "\n",
    "def fill_chance_per_time_period(chance_of_death: pd.DataFrame) -> pd.DataFrame:\n",
    "    last_value = None\n",
    "    for row in chance_of_death.iterrows():\n",
    "        if np.isnan(row[1]['dead']):\n",
    "            if last_value is None:\n",
    "                last_value = 0\n",
    "            chance_of_death['dead'][row[0]] = last_value\n",
    "        else:\n",
    "            last_value = row[1]['dead']\n",
    "    return chance_of_death\n",
    "\n",
    "\n",
    "running_alive_counts = map_over_experiments(experiment_dead_counts, calculate_running_alive_counts)\n",
    "\n",
    "chance_of_death_per_experiment = {}\n",
    "for experiment_name in experiment_dead_counts.keys():\n",
    "    dead_counts = experiment_dead_counts[experiment_name]\n",
    "    alive_counts = running_alive_counts[experiment_name]\n",
    "    \n",
    "    chance_of_death = compute_chance_of_death_per_time_period(dead_counts, alive_counts)\n",
    "    \n",
    "    # We dont have enough data points for each time period -> some time periods have NaNs -> We fill these values with the first non NaN left of it\n",
    "    #chance_of_death = fill_chance_per_time_period(chance_of_death)\n",
    "    \n",
    "    chance_of_death_per_experiment[experiment_name] = chance_of_death\n",
    "\n",
    "\n",
    "chance_of_death_per_experiment[GROUP_KEY]"
   ]
  },
  {
   "cell_type": "code",
   "execution_count": null,
   "id": "0678fa71",
   "metadata": {
    "colab": {
     "base_uri": "https://localhost:8080/",
     "height": 1000
    },
    "id": "0678fa71",
    "outputId": "751ef164-bbd0-45ca-d22c-0e932a088eeb",
    "scrolled": true
   },
   "outputs": [],
   "source": [
    "def graph_chance_of_death_per_time_period(chance_of_death_per_time_period: pd.DataFrame,\n",
    "                                          time_period_in_days: int,\n",
    "                                          title: str) -> None:\n",
    "    fig, ax = plt.subplots(nrows=NROWS, ncols=NCOLS)\n",
    "    ax.plot(chance_of_death_per_time_period, color=COLOR_MAP[0])\n",
    "    ax.set_xlabel(f'Time Period ({time_period_in_days} Days)')\n",
    "    ax.set_ylabel(f'Mortality Rate per time period')\n",
    "    ax.set_title(title)\n",
    "\n",
    "\n",
    "for group_name in chance_of_death_per_experiment.keys():\n",
    "    graph_chance_of_death_per_time_period(chance_of_death_per_experiment[group_name], mouse_bin_period_in_days, group_name)"
   ]
  },
  {
   "cell_type": "markdown",
   "id": "bf840d9b-d695-459c-8195-9eb99358dc62",
   "metadata": {
    "id": "bf840d9b-d695-459c-8195-9eb99358dc62"
   },
   "source": [
    "# Mouse Dataset Preprocessing (Cumulative Mortality Rate)\n",
    "\n",
    "In contrast with the mortality rate per time period, here we consider the morality rate with respect to the initial population size. As an example, if there were 1,000 mice alive at *the start of the experiment* and 900 left at 110 days, then (1,000 - 900) / 1,000 = 10% would be the calculated chance of death. This ignores how many mice were alive initially at the start of the experiment for that particular calculation."
   ]
  },
  {
   "cell_type": "code",
   "execution_count": null,
   "id": "a09a8434",
   "metadata": {
    "colab": {
     "base_uri": "https://localhost:8080/",
     "height": 455
    },
    "id": "a09a8434",
    "outputId": "237578d7-4e4c-4f91-a51f-6452c2636a98"
   },
   "outputs": [],
   "source": [
    "def calculate_cumulative_deaths(data):\n",
    "    return data[DEATH_COLUMN].cumsum()\n",
    "\n",
    "def compute_total_deaths(cumulative_deaths):\n",
    "    return cumulative_deaths.iloc[-1]\n",
    "\n",
    "def compute_running_mortality_percentage(data):\n",
    "    cumulative_deaths = calculate_cumulative_deaths(data)\n",
    "    total_deaths = compute_total_deaths(cumulative_deaths)\n",
    "\n",
    "    if total_deaths == 0:\n",
    "        raise ValueError('Invalid dataset (# of deaths must be > 0)')\n",
    "\n",
    "    return cumulative_deaths / total_deaths\n",
    "\n",
    "#running_mortality_percentage = compute_running_mortality_percentage(control_group)\n",
    "#control_group.loc[:, RUNNING_MORALITY_PERCENTAGE_COLUMN] = running_mortality_percentage\n",
    "#control_group[[AGE_IN_DAYS_COLUMN, RUNNING_MORALITY_PERCENTAGE_COLUMN]]\n",
    "\n",
    "\n",
    "running_mortality_percentage = map_over_experiments(experiment_groups, compute_running_mortality_percentage)\n",
    "\n",
    "for experiment_name in experiment_groups.keys():\n",
    "    experiment_groups[experiment_name].loc[:, RUNNING_MORALITY_PERCENTAGE_COLUMN] = running_mortality_percentage[experiment_name]\n",
    "\n",
    "experiment_groups[GROUP_KEY][[AGE_IN_DAYS_COLUMN, RUNNING_MORALITY_PERCENTAGE_COLUMN]]"
   ]
  },
  {
   "cell_type": "code",
   "execution_count": null,
   "id": "a24d701d",
   "metadata": {
    "colab": {
     "base_uri": "https://localhost:8080/",
     "height": 1000
    },
    "id": "a24d701d",
    "outputId": "357ce5a2-3f3c-4856-bbfe-c9c11616a20a"
   },
   "outputs": [],
   "source": [
    "def graph_running_mortality_percentage(age_in_days: pd.DataFrame,\n",
    "                                       running_mortality_percentage: pd.DataFrame,\n",
    "                                       title: str) -> None:\n",
    "    plt.plot(age_in_days, running_mortality_percentage, color=COLOR_MAP[0])\n",
    "    plt.xlabel('Days')\n",
    "    plt.ylabel('Cumulative Mortality Rate')\n",
    "    plt.title(title)\n",
    "    plt.show()\n",
    "\n",
    "for experiment_name, experiment_group in experiment_groups.items():\n",
    "    age_in_days = experiment_group.loc[:, AGE_IN_DAYS_COLUMN]\n",
    "    running_mortality_rate = experiment_group.loc[:, RUNNING_MORALITY_PERCENTAGE_COLUMN]\n",
    "    graph_running_mortality_percentage(age_in_days, running_mortality_rate, title=experiment_name)"
   ]
  },
  {
   "cell_type": "markdown",
   "id": "2430bed5-8dc0-4857-be9e-393129aeb7b6",
   "metadata": {
    "id": "2430bed5-8dc0-4857-be9e-393129aeb7b6"
   },
   "source": [
    "# Gompertz Model\n",
    "\n",
    "We use a Gompertz curve to fit the data with the assumption it follows the Gompertz-Makeham Law of Mortality. Refer to the link below for more details: [Gompertz–Makeham law of mortality](https://en.wikipedia.org/wiki/Gompertz%E2%80%93Makeham_law_of_mortality)"
   ]
  },
  {
   "cell_type": "code",
   "execution_count": null,
   "id": "4ccf4d96-e993-44f1-8935-0912e87d5140",
   "metadata": {
    "id": "4ccf4d96-e993-44f1-8935-0912e87d5140"
   },
   "outputs": [],
   "source": [
    "def fit_gompertz_model(gompertz_makeham: GompertzMakeham,\n",
    "                       ages: pd.DataFrame,\n",
    "                       mortality_rate: pd.DataFrame,\n",
    "                       max_fit_iterations: int = 2500) -> GompertzMakeham:\n",
    "    initial_parameters = gompertz_makeham.to_tuple()\n",
    "    predicted_parameters, covariance = curve_fit(law_function, ages, mortality_rate, p0=initial_parameters, maxfev=max_fit_iterations)\n",
    "    return GompertzMakeham.from_sequence(predicted_parameters)"
   ]
  },
  {
   "cell_type": "markdown",
   "id": "87683306-8613-4775-a994-9a5807419c2e",
   "metadata": {
    "id": "87683306-8613-4775-a994-9a5807419c2e"
   },
   "source": [
    "# Mortality Graphs"
   ]
  },
  {
   "cell_type": "code",
   "execution_count": null,
   "id": "224f3c01",
   "metadata": {
    "id": "224f3c01"
   },
   "outputs": [],
   "source": [
    "def population_at_daystart(data: pd.DataFrame) -> pd.DataFrame:\n",
    "    total_population = calculate_total(data)\n",
    "    population_at_start_of_day = (total_population) - data.cumsum()\n",
    "    population_at_start_of_day = population_at_start_of_day.shift(1)\n",
    "    population_at_start_of_day.loc[population_at_start_of_day.index.values[0]] = total_population\n",
    "    return population_at_start_of_day.rename(columns={\"dead\": \"Population\"})\n",
    "\n",
    "def calculate_mortality_rates(dead_counts: pd.DataFrame, population_data: pd.DataFrame) -> pd.DataFrame:\n",
    "    return dead_counts['dead'] / population_data['Population']\n",
    "\n",
    "def remove_days_without_deaths(data: pd.DataFrame) -> pd.DataFrame:\n",
    "    return data[(data[[\"dead\"]] != 0).all(axis=1)]\n",
    "\n",
    "def graph_mortality_rate(experiment_group: pd.DataFrame, time_period_in_days: int, title: str):\n",
    "    dead_counts = remove_days_without_deaths(group_ages(experiment_group, time_period_in_days))\n",
    "    population_data = population_at_daystart(dead_counts)\n",
    "    mortality_rate = calculate_mortality_rates(dead_counts, population_data)\n",
    "    if USE_LOG:\n",
    "        mortality_rate.apply(lambda x: np.log(x)).plot(style='.', color=COLOR_MAP[0])\n",
    "        plt.ylabel(\"Log Mortality Rate\")\n",
    "        plt.title(f\"Log Mortality Rate ({title})\")\n",
    "    else:\n",
    "        mortality_rate.plot(style='.', color=COLOR_MAP[0])\n",
    "        plt.ylabel(\"Mortality Rate\")\n",
    "        plt.title(f\"Mortality Rate ({title})\")\n",
    "    plt.xlabel(\"Age\")\n",
    "    plt.show()"
   ]
  },
  {
   "cell_type": "code",
   "execution_count": null,
   "id": "adbb7b9d",
   "metadata": {
    "colab": {
     "base_uri": "https://localhost:8080/",
     "height": 1000
    },
    "id": "adbb7b9d",
    "outputId": "47f8ff02-8f9e-40a2-be32-3cff775516cf"
   },
   "outputs": [],
   "source": [
    "for experiment_name, experiment_group in experiment_groups.items():\n",
    "    graph_mortality_rate(experiment_group, mouse_bin_period_in_days, experiment_name)"
   ]
  },
  {
   "cell_type": "code",
   "execution_count": null,
   "id": "0cdf5251",
   "metadata": {
    "colab": {
     "base_uri": "https://localhost:8080/",
     "height": 1000
    },
    "id": "0cdf5251",
    "outputId": "19f27ac8-1a7e-4f03-eefe-6d76a48d6ad2",
    "scrolled": true
   },
   "outputs": [],
   "source": [
    "@dataclass\n",
    "class ExperimentSample:\n",
    "    ages: pd.DataFrame\n",
    "    mortality_rate: pd.DataFrame\n",
    "\n",
    "def compute_experiment_sample(experiment_group: pd.DataFrame, bin_period_in_days: int) -> None:\n",
    "    dead_counts = remove_days_without_deaths(group_ages(experiment_group, bin_period_in_days))\n",
    "    population_data = population_at_daystart(dead_counts)\n",
    "\n",
    "    ages = dead_counts.index\n",
    "    mortality_rate = calculate_mortality_rates(dead_counts, population_data)\n",
    "\n",
    "    return ExperimentSample(ages=ages, mortality_rate=mortality_rate)\n",
    "\n",
    "def fit_gompertz_from_experiment(experiment_sample: ExperimentSample, gompertz_makeham: GompertzMakeham) -> None:\n",
    "    ages = experiment_sample.ages\n",
    "    mortality_rate = experiment_sample.mortality_rate\n",
    "\n",
    "    predicted_parameters = fit_gompertz_model(gompertz_makeham, ages, mortality_rate)\n",
    "    predicted_mortality = law_function(ages, predicted_parameters.alpha, predicted_parameters.beta, predicted_parameters.gamma)\n",
    "\n",
    "    return predicted_parameters, predicted_mortality\n",
    "\n",
    "def plot_fitted_gompertz_curve(experiment_sample: ExperimentSample, predicted_mortality: pd.DataFrame, title: str) -> None:\n",
    "    ages = experiment_sample.ages\n",
    "    mortality_rate = experiment_sample.mortality_rate\n",
    "    log_mortality_rate = mortality_rate.apply(lambda x: np.log(x))\n",
    "    log_predicted_mortality = np.log(predicted_mortality)\n",
    "\n",
    "    # Plot the results\n",
    "    if USE_LOG:\n",
    "        plt.scatter(ages, log_mortality_rate, label='Observed Data', color=COLOR_MAP[0])\n",
    "        plt.plot(ages, log_predicted_mortality, label='Basic Gompertz Fit', color=COLOR_MAP[1])\n",
    "    else:\n",
    "        plt.scatter(ages, mortality_rate, label='Observed Data', color=COLOR_MAP[0])\n",
    "        plt.plot(ages, predicted_mortality, label='Basic Gompertz Fit', color=COLOR_MAP[1])\n",
    "    \n",
    "    plt.xlabel('Age of Mice')\n",
    "    plt.ylabel(f'Mortality Rate')\n",
    "    plt.legend()\n",
    "    plt.title(f'Fitted Gompertz Curve for Group: {title}')\n",
    "    plt.show()\n",
    "\n",
    "\n",
    "for experiment_name, experiment_group in experiment_groups.items():\n",
    "    initial_parameters = GompertzMakeham(alpha=0.1, beta=0.085, gamma=0.01)\n",
    "\n",
    "    experiment_sample = compute_experiment_sample(experiment_group, mouse_bin_period_in_days)\n",
    "    parameters, predicted_mortality = fit_gompertz_from_experiment(experiment_sample, initial_parameters)\n",
    "    plot_fitted_gompertz_curve(experiment_sample, predicted_mortality, experiment_name)\n",
    "\n",
    "    print('Fitted Parameters:')\n",
    "    print(\"Alpha:\", parameters.alpha)\n",
    "    print(\"Beta:\", parameters.beta)\n",
    "    print(\"Gamma:\", parameters.gamma)\n",
    "\n",
    "    print('\\n')\n",
    "\n",
    "    mortality_rate = experiment_sample.mortality_rate\n",
    "    r_squared = r2_score(mortality_rate, predicted_mortality)\n",
    "    mse = mean_squared_error(mortality_rate, predicted_mortality)\n",
    "\n",
    "    print('Statistics:')\n",
    "    print(f'R-squared: {r_squared}')\n",
    "    print(f'Mean Squared Error: {mse}')\n",
    "    print('\\n')"
   ]
  },
  {
   "cell_type": "markdown",
   "id": "31e1fd7d-a6f6-4962-8440-0d798d02b21e",
   "metadata": {
    "id": "31e1fd7d-a6f6-4962-8440-0d798d02b21e"
   },
   "source": [
    "# Human Data\n",
    "\n",
    "Here we do some basic preprocessing to compute interesting statistics and also create the columns that are used in the mouse dataset. One small, but important fact worth mentioning is that the dataset is already binned by year which we multiply by 365 to get the number of days in which the data in binned.\n",
    "\n",
    "#### Potential Future Improvements\n",
    "We are currently ignoring leap years as we expect them to have little effect on the outcome, however including them as a fact could be considered a future improvement."
   ]
  },
  {
   "cell_type": "code",
   "execution_count": null,
   "id": "40539de1",
   "metadata": {
    "colab": {
     "base_uri": "https://localhost:8080/",
     "height": 472
    },
    "id": "40539de1",
    "outputId": "060a6eef-dcdf-4139-bb39-d869d3a9c599"
   },
   "outputs": [],
   "source": [
    "## Import  Human Data\n",
    "human_mortality_df = pd.read_excel(HUMAN_LIFESPAN_DATASET_PATH)\n",
    "human_mortality_df\n",
    "\n",
    "human_mortality_df['MortalityRate'] = human_mortality_df['Total'] / human_mortality_df['Population']\n",
    "human_mortality_df['LogMortalityRate'] = human_mortality_df['MortalityRate'].apply(lambda x: np.log(x))\n",
    "\n",
    "# Add columns expected by bootstrap methods\n",
    "human_mortality_df[[AGE_IN_DAYS_COLUMN]] = human_mortality_df[[HUMAN_AGE_IN_YEARS_COLUMN]] * days_per_years\n",
    "human_mortality_df[[DEATH_COLUMN]] = human_mortality_df[[HUMAN_DEATHS_PER_YEAR_COLUMN]]\n",
    "\n",
    "if USE_LOG:\n",
    "    plt.scatter(human_mortality_df['Age'], human_mortality_df['LogMortalityRate'], color=COLOR_MAP[0])\n",
    "    plt.ylabel('Log Mortality Rate')\n",
    "    plt.title('Log Mortality Rate of German People in 2020')\n",
    "else:\n",
    "    plt.scatter(human_mortality_df['Age'], human_mortality_df['MortalityRate'], color=COLOR_MAP[0])\n",
    "    plt.ylabel('Mortality Rate')\n",
    "    plt.title('Mortality Rate of German People in 2020')\n",
    "plt.xlabel('Year')\n",
    "plt.show()"
   ]
  },
  {
   "cell_type": "code",
   "execution_count": null,
   "id": "c91e3383",
   "metadata": {
    "colab": {
     "base_uri": "https://localhost:8080/",
     "height": 501
    },
    "id": "c91e3383",
    "outputId": "a7be7068-9723-4fc2-b4d5-699dfa8e37be"
   },
   "outputs": [],
   "source": [
    "# Fit Human Data to Gompertz\n",
    "ages = human_mortality_df['Age']\n",
    "mortality_rates = human_mortality_df['MortalityRate']\n",
    "log_mortality_rates = mortality_rates.apply(lambda x: np.log(x))\n",
    "human_samples = ExperimentSample(ages=ages, mortality_rate=mortality_rates)\n",
    "\n",
    "human_initial_gompertz_parameters = GompertzMakeham(alpha=0.1, beta=0.085, gamma=0.01)\n",
    "predicted_parameters, predicted_mortality = fit_gompertz_from_experiment(human_samples, human_initial_gompertz_parameters)\n",
    "\n",
    "predicted_mortality = law_function(ages, predicted_parameters.alpha, predicted_parameters.beta, predicted_parameters.gamma)\n",
    "\n",
    "fig, ax = plt.subplots()\n",
    "# Plot the results\n",
    "if USE_LOG:\n",
    "    log_predicted_mortality = np.log(predicted_mortality)\n",
    "    ax.scatter(ages, log_mortality_rates, label='Observed Data', color=COLOR_MAP[0])\n",
    "    ax.plot(ages, log_predicted_mortality, label='Basic Gompertz Fit', color=COLOR_MAP[1])\n",
    "else:\n",
    "    ax.scatter(ages, mortality_rates, label='Observed Data', color=COLOR_MAP[0])\n",
    "    ax.plot(ages, predicted_mortality, label='Basic Gompertz Fit', color=COLOR_MAP[1])\n",
    "ax.set_xlabel('Age of Humans(years)')\n",
    "ax.set_ylabel('Mortality Rate')\n",
    "ax.set_title(f'Gompertz-Makeham Fitting for the Group: {GROUP_KEY}')\n",
    "ax.legend()\n",
    "\n",
    "# We will save this plot if there is only 1 group to plot\n",
    "if PLOT_ALL_GROUP == False:\n",
    "    \n",
    "    fig.savefig('../fig/2401_001_gompertz_' + GROUP_KEY + '.pdf')\n",
    "\n",
    "plt.show()\n",
    "\n",
    "print(\"Fitted Parameters:\")\n",
    "print(\"Alpha:\", predicted_parameters.alpha)\n",
    "print(\"Beta:\", predicted_parameters.beta)\n",
    "print(\"Gamma:\", predicted_parameters.gamma)\n",
    "\n",
    "r_squared = None\n",
    "mse = None\n",
    "if USE_LOG:\n",
    "    r_squared = r2_score(log_mortality_rates, log_predicted_mortality)\n",
    "    mse = mean_squared_error(log_mortality_rates, log_predicted_mortality)\n",
    "else:\n",
    "    r_squared = r2_score(mortality_rates, predicted_mortality)\n",
    "    mse = mean_squared_error(mortality_rates, predicted_mortality)\n",
    "print(f'R-squared: {r_squared}')\n",
    "print(f'Mean Squared Error: {mse}')\n"
   ]
  },
  {
   "cell_type": "markdown",
   "source": [
    "We will save this plot for the paper."
   ],
   "metadata": {
    "collapsed": false
   },
   "id": "fc5f143be1055505"
  },
  {
   "cell_type": "code",
   "outputs": [],
   "source": [],
   "metadata": {
    "collapsed": false
   },
   "id": "efa0d9455754db2e",
   "execution_count": null
  },
  {
   "cell_type": "code",
   "execution_count": null,
   "id": "ded71901-ecc7-4b4d-a966-b45f8f370a2f",
   "metadata": {
    "id": "ded71901-ecc7-4b4d-a966-b45f8f370a2f"
   },
   "outputs": [],
   "source": [
    "@dataclass\n",
    "class BootstrapSetup:\n",
    "    dataset: pd.DataFrame\n",
    "    dataset_bin_period: int\n",
    "    initial_parameters: GompertzMakeham\n",
    "    sample_percentage: float\n",
    "\n",
    "def create_bootstrap_sample(df: pd.DataFrame, sample_percentage: int) -> pd.DataFrame:\n",
    "    n_samples = int(len(df) * sample_percentage)\n",
    "    indices = np.random.randint(low=0, high=len(df), size=n_samples)\n",
    "    return df.iloc[indices]\n",
    "\n",
    "def bootstrap_gompertz_parameters_once(setup: BootstrapSetup) -> GompertzMakeham:\n",
    "    bootstrap_sample = create_bootstrap_sample(setup.dataset, setup.sample_percentage)\n",
    "    bootstrap_experiment_sample = compute_experiment_sample(bootstrap_sample, setup.dataset_bin_period)\n",
    "    parameters, _ = fit_gompertz_from_experiment(bootstrap_experiment_sample, setup.initial_parameters)\n",
    "    return parameters\n",
    "\n",
    "def bootstrap_gompertz_parameters(setup: BootstrapSetup, n_trials: int):\n",
    "    parameters_list = []\n",
    "    for _ in range(n_trials):\n",
    "        parameters = bootstrap_gompertz_parameters_once(setup)\n",
    "        parameters_list.append(parameters)\n",
    "    return parameters_list\n",
    "\n",
    "def calculate_parameter_statistics(gompertz_parameters: [GompertzMakeham]) -> GompertzMakeham:\n",
    "    alphas = np.array([p.alpha for p in gompertz_parameters])\n",
    "    betas = np.array([p.beta for p in gompertz_parameters])\n",
    "    gammas = np.array([p.gamma for p in gompertz_parameters])\n",
    "\n",
    "    parameter_mean = GompertzMakeham(alpha=alphas.mean(), beta=betas.mean(), gamma=gammas.mean())\n",
    "    parameter_variance = GompertzMakeham(alpha=alphas.var(), beta=betas.var(), gamma=gammas.var())\n",
    "\n",
    "    return parameter_mean, parameter_variance"
   ]
  },
  {
   "cell_type": "markdown",
   "id": "e036814e-3377-4b38-8805-f3a98b4f082d",
   "metadata": {
    "id": "e036814e-3377-4b38-8805-f3a98b4f082d"
   },
   "source": [
    "# Measuring Parameter Variance\n",
    "Here we select randomly with replacement (bootstrap) death occurrances from each dataset and then predict a gompertz curve for each sample subset. This is followed with measuring the mean and the variance of the fitted parameters of the Gompertz curve. The latter statistic is especially useful in measuring in rough terms how \"Gompertz-like\" the data is. In other words, with a large variance this implies that model is not robust or generalize well therefore the data is not gompertz like. On the other hand, if it has low variance this means that the Gompertz curve is likely a model for fitting the data."
   ]
  },
  {
   "cell_type": "code",
   "execution_count": null,
   "id": "5120a35e-515b-4b09-aa6d-ba9af1ab6ac5",
   "metadata": {
    "id": "5120a35e-515b-4b09-aa6d-ba9af1ab6ac5"
   },
   "outputs": [],
   "source": [
    "sample_percentage = 0.1"
   ]
  },
  {
   "cell_type": "code",
   "execution_count": null,
   "id": "f4209b89-90e4-44cd-aae3-29aec6556164",
   "metadata": {
    "colab": {
     "base_uri": "https://localhost:8080/"
    },
    "id": "f4209b89-90e4-44cd-aae3-29aec6556164",
    "outputId": "d5157c1e-7034-4f85-f2a7-ca7653d5bb06"
   },
   "outputs": [],
   "source": [
    "for experiment_name, experiment_group in experiment_groups.items():\n",
    "    initial_parameters = GompertzMakeham(alpha=0.1, beta=0.085, gamma=0.01)\n",
    "    n_trials_mice = int(sqrt(len(experiment_group)))\n",
    "\n",
    "    n_samples = int(len(experiment_group) * sample_percentage)\n",
    "    mouse_bootstrap_setup = BootstrapSetup(experiment_group, dataset_bin_period=30, initial_parameters=initial_parameters,\n",
    "                                            sample_percentage=sample_percentage)\n",
    "\n",
    "    mouse_bootstrapped_parameters = bootstrap_gompertz_parameters(mouse_bootstrap_setup, n_trials=n_trials_mice)\n",
    "    mouse_parameter_mean, mouse_parameter_variance = calculate_parameter_statistics(mouse_bootstrapped_parameters)\n",
    "\n",
    "    print(f'Mouse Parameter Statistics ({experiment_name}):')\n",
    "    print(f'mu = {mouse_parameter_mean}')\n",
    "    print(f's^2 =  {mouse_parameter_variance}')\n",
    "    print('\\n')"
   ]
  },
  {
   "cell_type": "code",
   "execution_count": null,
   "id": "4d93fa9e-0297-4afc-a20c-fb4eb5eb8f9f",
   "metadata": {
    "colab": {
     "base_uri": "https://localhost:8080/"
    },
    "id": "4d93fa9e-0297-4afc-a20c-fb4eb5eb8f9f",
    "outputId": "18421eed-e139-4fa9-c16d-5fcfa50d0c8e"
   },
   "outputs": [],
   "source": [
    "n_trials_humans = int(sqrt(len(human_mortality_df)))\n",
    "\n",
    "# we set dataset_bin_period to 365 because the data has already been binned by the number of days in a years (365).\n",
    "# Note: this ignore leap years, as it is assumed to be insigificant, but can be considered as a potential improvment.\n",
    "human_bootstrap_setup = BootstrapSetup(human_mortality_df, dataset_bin_period=365, initial_parameters=initial_parameters,\n",
    "                                       sample_percentage=sample_percentage)\n",
    "\n",
    "human_bootstrapped_parameters = bootstrap_gompertz_parameters(human_bootstrap_setup, n_trials=n_trials_humans)\n",
    "human_parameter_mean, human_parameter_variance = calculate_parameter_statistics(human_bootstrapped_parameters)\n",
    "\n",
    "print(f'Human Parameter Statistics:')\n",
    "print(f'mu = {human_parameter_mean}')\n",
    "print(f's^2 =  {human_parameter_variance}')"
   ]
  },
  {
   "cell_type": "markdown",
   "id": "5ce330d8",
   "metadata": {},
   "source": [
    "# Mortality Analysis for Treatment Data"
   ]
  },
  {
   "cell_type": "code",
   "execution_count": null,
   "id": "b3702451",
   "metadata": {},
   "outputs": [],
   "source": [
    "def load_data_into_dicts(data_path,group_by_days=None):\n",
    "    \"\"\"\n",
    "    Load CSV files from the specified path into male and female dictionaries.\n",
    "\n",
    "    Parameters:\n",
    "    - data_path (str): Path to the directory containing CSV files.\n",
    "\n",
    "    Returns:\n",
    "    - male_data (dict): Dictionary containing male data.\n",
    "    - female_data (dict): Dictionary containing female data.\n",
    "    \"\"\"\n",
    "    # Create empty dictionaries for male and female data\n",
    "    male_data = {}\n",
    "    female_data = {}\n",
    "\n",
    "    # Iterate through all CSV files in the specified path\n",
    "    for file_name in os.listdir(data_path):\n",
    "        if file_name.endswith(\".csv\"):\n",
    "            # Read the CSV file into a pandas DataFrame\n",
    "            df = pd.read_csv(os.path.join(data_path, file_name))\n",
    "\n",
    "            # Extract the gender and treatment information from the file name\n",
    "            gender, treatment = file_name.split(\"_\")[0], \"_\".join(file_name.split(\"_\")[1:])\n",
    "\n",
    "            # Combine gender and treatment to form the dictionary key\n",
    "            key = f\"{gender}_{treatment[:-4]}\"  # Removing the \".csv\" extension from treatment\n",
    "            \n",
    "            # Round Ages\n",
    "            df['x'] = df['x'].apply(lambda x: floor(x))\n",
    "            \n",
    "            # Round Survival Rate\n",
    "            df['y'] = df['y'].apply(lambda x: round(x,2))\n",
    "\n",
    "            # Calculate the \"Population\" at each day\n",
    "            df['Population'] = df['y'].apply(lambda x: floor(50 * x))\n",
    "            df = df.drop_duplicates(subset=['Population'])\n",
    "            \n",
    "            # Calculate the \"Deaths\" at each day\n",
    "            df['Death'] = 50 - df['Population']\n",
    "            df['Death'] = df['Death'] - df['Death'].shift(1)\n",
    "            \n",
    "            #remove \"negative deaths\" -> mistake in data gathering\n",
    "            df = df[df['Death'] >= 0]\n",
    "\n",
    "            if group_by_days:\n",
    "                df['Age'] = (df['x'] // group_by_days) \n",
    "                df = df.groupby('Age').agg({'Death': 'sum', 'Population': 'min'}).reset_index()\n",
    "            else:\n",
    "                df['Age'] = df['x']\n",
    "                \n",
    "            # Calculate the Mortality Rates\n",
    "            df['Mortality'] = df['Death'] / df['Population']\n",
    "                \n",
    "            # Check gender and store the DataFrame in the appropriate dictionary\n",
    "            if gender.lower() == \"male\":\n",
    "                male_data[key] = df\n",
    "            elif gender.lower() == \"female\":\n",
    "                female_data[key] = df\n",
    "    return male_data, female_data\n",
    "\n",
    "def plot_gender_mortality(data_dict, gender_label, plot_log_mortality = False, plot_linear_regression = False):\n",
    "    if plot_log_mortality:\n",
    "        for key, df in data_dict.items():\n",
    "            log_mortality = np.log(df['Mortality'])\n",
    "            scatter_plot = plt.scatter(df['Age'], log_mortality, label=f'{key.split(\"male_\")[1]}', color=COLOR_MAP[0])\n",
    "            \n",
    "            if plot_linear_regression:\n",
    "                # Calculate linear regression for log mortality\n",
    "                slope, intercept, _, _, _ = linregress(df['Age'], log_mortality)\n",
    "                linear_regression_line = slope * df['Age'] + intercept\n",
    "                plt.plot(df['Age'], linear_regression_line, color=COLOR_MAP[1],\n",
    "                         linestyle='dashed', linewidth=1,alpha=0.5)\n",
    "            \n",
    "        plt.title(str(\"Treatment Data - \" + gender_label + \" Log Mortality\"))\n",
    "        \n",
    "    else:\n",
    "        for key, df in data_dict.items():\n",
    "            plt.scatter(df['Age'], df['Mortality'], label=f'{key.split(\"male_\")[1]}')\n",
    "        plt.title(str(\"Treatment Data - \" + gender_label + \" Mortality\"))\n",
    "            \n",
    "    plt.xlabel('Age')\n",
    "    plt.ylabel('Mortality Rate')\n",
    "    \n",
    "    # Move the legend outside the plot\n",
    "    plt.legend(bbox_to_anchor=(1.05, 1), loc='upper left')\n",
    "\n",
    "    plt.show()\n",
    "\n",
    "def fit_and_plot_gompertz(data_dict):\n",
    "    for key, df in data_dict.items():\n",
    "        ages = df['Age']\n",
    "        mortality_rates = df['Mortality']\n",
    "\n",
    "        # Fit Treatment Data to Gompertz\n",
    "        treatment_samples = ExperimentSample(ages=ages, mortality_rate=mortality_rates)\n",
    "\n",
    "        initial_gompertz_parameters = GompertzMakeham(alpha=0.1, beta=0.085, gamma=0.01)\n",
    "        predicted_parameters, predicted_mortality = fit_gompertz_from_experiment(treatment_samples, initial_gompertz_parameters)\n",
    "\n",
    "        # Predict mortality using the fitted parameters\n",
    "        predicted_mortality = law_function(ages, predicted_parameters.alpha, predicted_parameters.beta, predicted_parameters.gamma)\n",
    "\n",
    "        # Plot the results\n",
    "        plt.scatter(ages, mortality_rates, label=f'{key} - Observed Data', color=COLOR_MAP[0])\n",
    "        plt.plot(ages, predicted_mortality, label=f'{key} - Gompertz Fit', color=COLOR_MAP[1])\n",
    "        plt.xlabel('Age of Mice (Days)')\n",
    "        plt.ylabel('Mortality Rate')\n",
    "        plt.legend()\n",
    "        plt.show()\n",
    "\n",
    "        # Display fitted parameters\n",
    "        print(f\"\\nFitted Parameters for {key}:\")\n",
    "        print(\"Alpha:\", predicted_parameters.alpha)\n",
    "        print(\"Beta:\", predicted_parameters.beta)\n",
    "        print(\"Gamma:\", predicted_parameters.gamma)"
   ]
  },
  {
   "cell_type": "code",
   "execution_count": null,
   "id": "ad946062",
   "metadata": {},
   "outputs": [],
   "source": [
    "data_path = \"../dat/RMR_data/\"\n",
    "male_dict, female_dict = load_data_into_dicts(data_path, mouse_bin_period_in_days)\n",
    "female_dict[\"female_None\"]"
   ]
  },
  {
   "cell_type": "code",
   "execution_count": null,
   "id": "9e6cf9ef",
   "metadata": {},
   "outputs": [],
   "source": [
    "plot_gender_mortality(male_dict, 'Male')\n",
    "plot_gender_mortality(female_dict, 'Female')"
   ]
  },
  {
   "cell_type": "code",
   "execution_count": null,
   "id": "4df64d95",
   "metadata": {},
   "outputs": [],
   "source": [
    "plot_gender_mortality(male_dict, 'Male',plot_log_mortality=True)\n",
    "plot_gender_mortality(female_dict, 'Female',plot_log_mortality=True, plot_linear_regression = True)"
   ]
  },
  {
   "cell_type": "code",
   "execution_count": null,
   "id": "e7da7d25",
   "metadata": {},
   "outputs": [],
   "source": [
    "fit_and_plot_gompertz(female_dict)"
   ]
  },
  {
   "cell_type": "code",
   "execution_count": null,
   "id": "6f33c828",
   "metadata": {},
   "outputs": [],
   "source": [
    "fit_and_plot_gompertz(male_dict)"
   ]
  },
  {
   "cell_type": "code",
   "outputs": [],
   "source": [],
   "metadata": {
    "collapsed": false
   },
   "id": "a904a8b4831baf53",
   "execution_count": null
  }
 ],
 "metadata": {
  "colab": {
   "provenance": []
  },
  "kernelspec": {
   "display_name": "Python 3 (ipykernel)",
   "language": "python",
   "name": "python3"
  },
  "language_info": {
   "codemirror_mode": {
    "name": "ipython",
    "version": 3
   },
   "file_extension": ".py",
   "mimetype": "text/x-python",
   "name": "python",
   "nbconvert_exporter": "python",
   "pygments_lexer": "ipython3",
   "version": "3.11.6"
  }
 },
 "nbformat": 4,
 "nbformat_minor": 5
}
