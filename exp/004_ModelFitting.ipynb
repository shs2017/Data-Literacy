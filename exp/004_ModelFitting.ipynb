{
 "cells": [
  {
   "cell_type": "markdown",
   "source": [
    "# Predicting most Efficient Interventions for Life Span Increase\n",
    "#### Data Literacy at University of Tübingen, Winter 2023/24\n",
    "\n",
    "---\n",
    "&copy; Daniel Flat, Jackson Harmon, Eric Nazarenus, Aline Bittler 2023. [CC BY-SA 4.0](https://creativecommons.org/licenses/by-sa/4.0/)\n",
    "\n",
    "Template by Philipp Hennig, 2023. [CC BY-SA 4.0](https://creativecommons.org/licenses/by-sa/4.0/)"
   ],
   "metadata": {
    "collapsed": false
   },
   "id": "a847af90554a1f42"
  },
  {
   "cell_type": "code",
   "outputs": [],
   "source": [],
   "metadata": {
    "collapsed": false,
    "ExecuteTime": {
     "end_time": "2024-01-27T11:01:01.637707Z",
     "start_time": "2024-01-27T11:01:01.633939Z"
    }
   },
   "id": "d3b318e7b034ec67",
   "execution_count": 0
  }
 ],
 "metadata": {
  "kernelspec": {
   "display_name": "Python 3",
   "language": "python",
   "name": "python3"
  },
  "language_info": {
   "codemirror_mode": {
    "name": "ipython",
    "version": 2
   },
   "file_extension": ".py",
   "mimetype": "text/x-python",
   "name": "python",
   "nbconvert_exporter": "python",
   "pygments_lexer": "ipython2",
   "version": "2.7.6"
  }
 },
 "nbformat": 4,
 "nbformat_minor": 5
}
