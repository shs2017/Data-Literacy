{
 "cells": [
  {
   "cell_type": "markdown",
   "id": "a847af90554a1f42",
   "metadata": {
    "collapsed": false,
    "jupyter": {
     "outputs_hidden": false
    }
   },
   "source": [
    "# Predicting most Efficient Interventions for Life Span Increase\n",
    "#### Data Literacy at University of Tübingen, Winter 2023/24\n",
    "\n",
    "---\n",
    "&copy; Daniel Flat, Jackson Harmon, Eric Nazarenus, Aline Bittler 2023. [CC BY-SA 4.0](https://creativecommons.org/licenses/by-sa/4.0/)\n",
    "\n",
    "Template by Philipp Hennig, 2023. [CC BY-SA 4.0](https://creativecommons.org/licenses/by-sa/4.0/)"
   ]
  },
  {
   "cell_type": "code",
   "execution_count": 77,
   "id": "d3b318e7b034ec67",
   "metadata": {
    "collapsed": false,
    "jupyter": {
     "outputs_hidden": false
    }
   },
   "outputs": [
    {
     "name": "stderr",
     "output_type": "stream",
     "text": [
      "/tmp/ipykernel_15332/3571106454.py:2: DeprecationWarning: \n",
      "Pyarrow will become a required dependency of pandas in the next major release of pandas (pandas 3.0),\n",
      "(to allow more performant data types, such as the Arrow string type, and better interoperability with other libraries)\n",
      "but was not found to be installed on your system.\n",
      "If this would cause problems for you,\n",
      "please provide us feedback at https://github.com/pandas-dev/pandas/issues/54466\n",
      "        \n",
      "  import pandas as pd\n"
     ]
    }
   ],
   "source": [
    "import os\n",
    "import pandas as pd"
   ]
  },
  {
   "cell_type": "code",
   "execution_count": 91,
   "id": "a2a2da75-c82c-4bb4-a53f-1fc659ee6ff4",
   "metadata": {},
   "outputs": [],
   "source": [
    "# Group Constants\n",
    "MALE = 'male'\n",
    "FEMALE = 'female'\n",
    "SEX_CATEGORIES = [MALE, FEMALE]\n",
    "\n",
    "# Intervention Constants\n",
    "CONTROL_GROUP = 'None'\n",
    "ALL_GROUP = 'All'\n",
    "ONE_REMOVED_PREFIX = 'no_'\n",
    "\n",
    "# Dataset Contsants\n",
    "DATASET_DIRECTORY = os.path.join('..', 'dat', 'RMR_data')"
   ]
  },
  {
   "cell_type": "code",
   "execution_count": 92,
   "id": "26ee56b7-91a7-4d1d-aa82-625e00735e87",
   "metadata": {},
   "outputs": [],
   "source": [
    "dataset_paths = os.listdir(DATASET_DIRECTORY)\n",
    "\n",
    "def convert_filename_to_key(filename, category):\n",
    "    category_removed = filename[len(category) + 1:]\n",
    "    return os.path.splitext(category_removed)[0]\n",
    "\n",
    "def create_dataset_mapping(dataset_directory, categories):\n",
    "    dataset_mappings = {}\n",
    "    \n",
    "    for category in categories:\n",
    "        category_path = {} \n",
    "        for path in dataset_paths:\n",
    "            full_path = os.path.join(dataset_directory, path)\n",
    "    \n",
    "            if category == path[:len(category)]:\n",
    "                key = convert_filename_to_key(path, category)\n",
    "                category_path[key] = full_path\n",
    "        dataset_mappings[category] = category_path\n",
    "    \n",
    "    return dataset_mappings"
   ]
  },
  {
   "cell_type": "code",
   "execution_count": 114,
   "id": "985bdfce-5b3f-470f-82b0-35bc50a6c312",
   "metadata": {},
   "outputs": [],
   "source": [
    "def is_one_removed_intervention(key):\n",
    "    if len(key) < 3:\n",
    "        return False\n",
    "\n",
    "    return key[:len(ONE_REMOVED_PREFIX)] == ONE_REMOVED_PREFIX\n",
    "\n",
    "def extract_single_interventions(dataset_mapping: dict):\n",
    "    single_interventions = []\n",
    "    for key in dataset_mapping.keys():\n",
    "        if key == ALL_GROUP:\n",
    "            continue\n",
    "        elif key == CONTROL_GROUP:\n",
    "            continue\n",
    "        elif is_one_removed_intervention(key):\n",
    "            continue\n",
    "        else:\n",
    "            single_interventions.append(key)\n",
    "    \n",
    "    return single_interventions\n",
    "\n",
    "def create_one_removed_key(key: str, intervention_list: []) -> []:\n",
    "    removed_key = key[len(ONE_REMOVED_PREFIX):]\n",
    "\n",
    "    removed_intervention_list = []\n",
    "    for intervention in intervention_list:\n",
    "        if intervention != removed_key:\n",
    "            removed_intervention_list.append(removed_key)\n",
    "\n",
    "    return removed_intervention_list\n",
    "\n",
    "def create_intervention_list_from_group(key: str, intervention_list: []):\n",
    "        if key == ALL_GROUP:\n",
    "            return intervention_list\n",
    "        elif key == CONTROL_GROUP:\n",
    "            return []\n",
    "        elif is_one_removed_intervention(key):\n",
    "            return create_one_removed_key(key, intervention_list)\n",
    "        else:\n",
    "            return key\n",
    "\n",
    "def create_standard_key_from_intevention_list(interventions):\n",
    "    return ','.join(interventions)"
   ]
  },
  {
   "cell_type": "code",
   "execution_count": 115,
   "id": "2329da50-aad7-4347-8520-d9d79c1c05fc",
   "metadata": {},
   "outputs": [
    {
     "data": {
      "text/plain": [
       "'HSCs,Gal-Nav,mTERT,Rapamycin'"
      ]
     },
     "execution_count": 115,
     "metadata": {},
     "output_type": "execute_result"
    }
   ],
   "source": [
    "def load_csv(path):\n",
    "    return pd.read_csv(\n",
    "                        path,\n",
    "                        skiprows=0,\n",
    "                        sep=',',\n",
    "                        engine='python',\n",
    "                        decimal='.',\n",
    "                        dtype={'x': 'float64', 'y': 'float64'}\n",
    "            )\n",
    "\n",
    "\n",
    "def create_dataset_by_category(category_path: dict):\n",
    "    datasets = {}\n",
    "    for key, path in category_path.items():\n",
    "        datasets[key] = load_csv(path)\n",
    "    return datasets\n",
    "\n",
    "# create_dataset_by_category(female_dataset_paths)\n",
    "dataset_mapping = create_dataset_mapping(DATASET_DIRECTORY, SEX_CATEGORIES)\n",
    "female_dataset_paths = dataset_mapping[FEMALE]\n",
    "\n",
    "SINGLE_INTERVENTIONS = extract_single_interventions(female_dataset_paths)\n",
    "\n",
    "create_standard_key_from_intevention_list(SINGLE_INTERVENTIONS)\n",
    "# female_dataset_paths"
   ]
  },
  {
   "cell_type": "code",
   "execution_count": null,
   "id": "1ba5a704-1ff6-481d-a2e7-0e28c7858829",
   "metadata": {},
   "outputs": [],
   "source": [
    "def roundNumbers(df):\n",
    "    df = df.apply(lambda x:round(x, ROUNDING_DIGITS))\n",
    "    return df\n",
    "\n",
    "def addColumn(data_frame, col_name, col_value):\n",
    "    data_frame[col_name] = col_value\n",
    "\n",
    "# Round the numbers of the x and y columns\n",
    "female_df = roundNumbers(female_df)\n",
    "\n",
    "# Add the columns for the first group\n",
    "addColumn(female_df, 'sex', 'female')\n",
    "addColumn(female_df, 'category', 'None')\n",
    "\n",
    "female_df"
   ]
  }
 ],
 "metadata": {
  "kernelspec": {
   "display_name": "Python 3 (ipykernel)",
   "language": "python",
   "name": "python3"
  },
  "language_info": {
   "codemirror_mode": {
    "name": "ipython",
    "version": 3
   },
   "file_extension": ".py",
   "mimetype": "text/x-python",
   "name": "python",
   "nbconvert_exporter": "python",
   "pygments_lexer": "ipython3",
   "version": "3.11.6"
  }
 },
 "nbformat": 4,
 "nbformat_minor": 5
}
