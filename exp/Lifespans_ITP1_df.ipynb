{
 "cells": [
  {
   "cell_type": "markdown",
   "id": "a847af90554a1f42",
   "metadata": {
    "collapsed": false,
    "jupyter": {
     "outputs_hidden": false
    }
   },
   "source": [
    "# Predicting most Efficient Interventions for Life Span Increase\n",
    "#### Data Literacy at University of Tübingen, Winter 2023/24\n",
    "\n",
    "---\n",
    "&copy; Daniel Flat, Jackson Harmon, Eric Nazarenus, Aline Bittler 2023. [CC BY-SA 4.0](https://creativecommons.org/licenses/by-sa/4.0/)\n",
    "\n",
    "Template by Philipp Hennig, 2023. [CC BY-SA 4.0](https://creativecommons.org/licenses/by-sa/4.0/)"
   ]
  },
  {
   "cell_type": "code",
   "execution_count": 79,
   "id": "d3b318e7b034ec67",
   "metadata": {
    "collapsed": false,
    "jupyter": {
     "outputs_hidden": false
    }
   },
   "outputs": [],
   "source": [
    "import os\n",
    "\n",
    "import matplotlib.pyplot as plt\n",
    "import numpy as np\n",
    "import pandas as pd\n",
    "\n",
    "from dataclasses import dataclass\n",
    "from scipy.optimize import curve_fit\n"
   ]
  },
  {
   "cell_type": "code",
   "execution_count": 80,
   "id": "a2a2da75-c82c-4bb4-a53f-1fc659ee6ff4",
   "metadata": {},
   "outputs": [],
   "source": [
    "# Group Constants\n",
    "MALE = 'male'\n",
    "FEMALE = 'female'\n",
    "SEX_CATEGORIES = [MALE, FEMALE]\n",
    "\n",
    "# Intervention Constants\n",
    "CONTROL_GROUP = 'None'\n",
    "ALL_GROUP = 'All'\n",
    "ONE_REMOVED_PREFIX = 'no_'\n",
    "\n",
    "# Dataset Contsants\n",
    "DATASET_DIRECTORY = os.path.join('..', 'dat', 'RMR_data')\n",
    "\n",
    "# Graphing constants\n",
    "COLOR_MAP = [\"#ADD8E6\", \"#008000\", \"#FFD700\", \"#800080\", \"#FF7F50\", \"#40E0D0\", \"#708090\", \"#FF8C00\", \"#FF00FF\", \"#008080\"]"
   ]
  },
  {
   "cell_type": "code",
   "execution_count": 81,
   "id": "26ee56b7-91a7-4d1d-aa82-625e00735e87",
   "metadata": {},
   "outputs": [],
   "source": [
    "dataset_paths = os.listdir(DATASET_DIRECTORY)\n",
    "\n",
    "def convert_filename_to_key(filename, category):\n",
    "    category_removed = filename[len(category) + 1:]\n",
    "    return os.path.splitext(category_removed)[0]\n",
    "\n",
    "def create_dataset_mapping(dataset_directory, categories):\n",
    "    dataset_mappings = {}\n",
    "    \n",
    "    for category in categories:\n",
    "        category_path = {} \n",
    "        for path in dataset_paths:\n",
    "            full_path = os.path.join(dataset_directory, path)\n",
    "    \n",
    "            if category == path[:len(category)]:\n",
    "                key = convert_filename_to_key(path, category)\n",
    "                category_path[key] = full_path\n",
    "        dataset_mappings[category] = category_path\n",
    "    \n",
    "    return dataset_mappings"
   ]
  },
  {
   "cell_type": "code",
   "execution_count": 82,
   "id": "985bdfce-5b3f-470f-82b0-35bc50a6c312",
   "metadata": {},
   "outputs": [],
   "source": [
    "def is_one_removed_intervention(key):\n",
    "    if len(key) < 3:\n",
    "        return False\n",
    "\n",
    "    return key[:len(ONE_REMOVED_PREFIX)] == ONE_REMOVED_PREFIX\n",
    "\n",
    "def extract_single_interventions(dataset_mapping: dict):\n",
    "    single_interventions = []\n",
    "    for key in dataset_mapping.keys():\n",
    "        if key == ALL_GROUP:\n",
    "            continue\n",
    "        elif key == CONTROL_GROUP:\n",
    "            continue\n",
    "        elif is_one_removed_intervention(key):\n",
    "            continue\n",
    "        else:\n",
    "            single_interventions.append(key)\n",
    "    \n",
    "    return single_interventions\n",
    "\n",
    "def create_one_removed_key(key: str, intervention_list: []) -> []:\n",
    "    removed_key = key[len(ONE_REMOVED_PREFIX):]\n",
    "\n",
    "    removed_intervention_list = []\n",
    "    for intervention in intervention_list:\n",
    "        if intervention != removed_key:\n",
    "            removed_intervention_list.append(intervention)\n",
    "\n",
    "    return removed_intervention_list\n",
    "\n",
    "def create_intervention_list_from_group(key: str, intervention_list: []):\n",
    "    new_intervention_list = None\n",
    "    \n",
    "    if key == ALL_GROUP:\n",
    "        new_intervention_list = intervention_list\n",
    "    elif key == CONTROL_GROUP:\n",
    "        new_intervention_list = []\n",
    "    elif is_one_removed_intervention(key):\n",
    "        new_intervention_list = create_one_removed_key(key, intervention_list)\n",
    "    else:\n",
    "        new_intervention_list = [key]\n",
    "\n",
    "    return ','.join(new_intervention_list)"
   ]
  },
  {
   "cell_type": "code",
   "execution_count": 83,
   "id": "2329da50-aad7-4347-8520-d9d79c1c05fc",
   "metadata": {},
   "outputs": [],
   "source": [
    "def load_csv(path):\n",
    "    return pd.read_csv(\n",
    "                        path,\n",
    "                        skiprows=0,\n",
    "                        sep=',',\n",
    "                        engine='python',\n",
    "                        decimal='.',\n",
    "                        dtype={'x': 'float64', 'y': 'float64'}\n",
    "            )\n",
    "\n",
    "\n",
    "def create_dataset_by_category(category_path: dict, single_interventions: []):\n",
    "    datasets = {}\n",
    "    for key, path in category_path.items():\n",
    "        new_key = create_intervention_list_from_group(key, single_interventions)\n",
    "        datasets[new_key] = load_csv(path)\n",
    "    return datasets\n",
    "\n",
    "dataset_mapping = create_dataset_mapping(DATASET_DIRECTORY, SEX_CATEGORIES)\n",
    "female_dataset_paths = dataset_mapping[FEMALE]\n",
    "female_single_interventions = extract_single_interventions(female_dataset_paths)\n",
    "\n",
    "female_dataset = create_dataset_by_category(female_dataset_paths, female_single_interventions)"
   ]
  },
  {
   "cell_type": "code",
   "execution_count": 84,
   "id": "d3dea660-6edd-4478-9975-7e9bf551e82b",
   "metadata": {},
   "outputs": [],
   "source": [
    "def gompertz(x, alpha, beta):\n",
    "    return alpha * np.exp(beta * x)\n",
    "\n",
    "@dataclass\n",
    "class GompertzParameters:\n",
    "    alpha: np.float64\n",
    "    beta: np.float64\n",
    "\n",
    "    @staticmethod\n",
    "    def from_sequence(seq):\n",
    "        return GompertzParameters(alpha=seq[0], beta=seq[1])\n",
    "\n",
    "    def to_tuple(self):\n",
    "        return (self.alpha, self.beta)\n",
    "\n",
    "    def __str__(self) -> str:\n",
    "        return f'(alpha={self.alpha:.4f}, beta={self.beta:.4f})'\n",
    "\n",
    "    def __repr__(self) -> str:\n",
    "        return f'(alpha={self.alpha:.4f}, beta={self.beta:.4f})'\n",
    "\n",
    "\n",
    "def fit_gompertz_model(initial_parameters: GompertzParameters,\n",
    "                       ages: pd.DataFrame,\n",
    "                       mortality_rate: pd.DataFrame,\n",
    "                       max_fit_iterations: int = 2_500) -> GompertzParameters:\n",
    "    p0 = initial_parameters.to_tuple()\n",
    "    predicted_parameters, covariance = curve_fit(gompertz, ages, mortality_rate, p0=p0, maxfev=max_fit_iterations)\n",
    "    return GompertzParameters.from_sequence(predicted_parameters)\n",
    "\n",
    "test_dataset = female_dataset['HSCs']\n",
    "ages = np.array(test_dataset.x) / 365 # ages in years\n",
    "mortality_rate = np.array(1 - test_dataset.y)\n",
    "\n",
    "initial_parameters = GompertzParameters(alpha=0.1, beta=0.085)\n",
    "predicted_parameters = fit_gompertz_model(initial_parameters, ages, mortality_rate)\n",
    "predicted_mortality = gompertz(ages, predicted_parameters.alpha, predicted_parameters.beta)"
   ]
  },
  {
   "cell_type": "code",
   "execution_count": 85,
   "id": "371d96de-2b58-499a-bbc5-9fe79c081137",
   "metadata": {},
   "outputs": [
    {
     "data": {
      "image/png": "[encoded data removed]",
      "text/plain": [
       "<Figure size 640x480 with 1 Axes>"
      ]
     },
     "metadata": {},
     "output_type": "display_data"
    }
   ],
   "source": [
    "def plot_fitted_gompertz_curve(ages, mortality_rate, predicted_mortality_rate, title: str) -> None:\n",
    "    plt.scatter(ages, mortality_rate, label='Observed Data', color=COLOR_MAP[0])\n",
    "    plt.plot(ages, predicted_mortality, label='Basic Gompertz Fit', color=COLOR_MAP[1])\n",
    "    plt.xlabel('Age of Mice (Years)')\n",
    "    plt.ylabel(f'Mortality Rate ({title})')\n",
    "    plt.legend()\n",
    "    plt.show()\n",
    "\n",
    "plot_fitted_gompertz_curve(ages, mortality_rate, predicted_mortality, 'Test')"
   ]
  },
  {
   "cell_type": "code",
   "execution_count": null,
   "id": "c057cc72-30dc-4300-9668-2fce98b0513f",
   "metadata": {},
   "outputs": [],
   "source": []
  }
 ],
 "metadata": {
  "kernelspec": {
   "display_name": "Python 3 (ipykernel)",
   "language": "python",
   "name": "python3"
  },
  "language_info": {
   "codemirror_mode": {
    "name": "ipython",
    "version": 3
   },
   "file_extension": ".py",
   "mimetype": "text/x-python",
   "name": "python",
   "nbconvert_exporter": "python",
   "pygments_lexer": "ipython3",
   "version": "3.11.6"
  }
 },
 "nbformat": 4,
 "nbformat_minor": 5
}
