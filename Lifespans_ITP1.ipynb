{
 "cells": [
  {
   "cell_type": "markdown",
   "source": [
    "# Predicting most Efficient Interventions for Life Span Increase\n",
    "#### Data Literacy at University of Tübingen, Winter 2023/24\n",
    "\n",
    "---\n",
    "&copy; Daniel Flat, Jackson Harmon, Eric Nazarenus, Aline Bittler 2023. [CC BY-SA 4.0](https://creativecommons.org/licenses/by-sa/4.0/)\n",
    "\n",
    "Template by Philipp Hennig, 2023. [CC BY-SA 4.0](https://creativecommons.org/licenses/by-sa/4.0/)"
   ],
   "metadata": {
    "collapsed": false
   },
   "id": "6c1b29a10e92d497"
  },
  {
   "cell_type": "code",
   "execution_count": 4,
   "outputs": [],
   "source": [
    "import pandas as pd"
   ],
   "metadata": {
    "collapsed": false,
    "ExecuteTime": {
     "end_time": "2023-12-05T06:57:27.773552Z",
     "start_time": "2023-12-05T06:57:15.739259Z"
    }
   },
   "id": "bb4330ef3d63d1b8"
  },
  {
   "cell_type": "code",
   "execution_count": 6,
   "outputs": [
    {
     "data": {
      "text/plain": "                  site sex       id     group Rx(ppm) age_initiation(mo)  \\\npopulation cohort                                                          \nUM-HET3    C2004   TJL   m  JL00005  4-OH-PBN     315                4.0   \n           C2004   TJL   m  JL00006  4-OH-PBN     315                4.0   \n           C2004   TJL   m  JL00007  4-OH-PBN     315                4.0   \n           C2004   TJL   f  JL00095  4-OH-PBN     315                4.0   \n           C2004   TJL   f  JL00096  4-OH-PBN     315                4.0   \n...                ...  ..      ...       ...     ...                ...   \n           C2017    UT   m  UT10744       Syr     300                5.0   \n           C2017    UT   m  UT10745       Syr     300                5.0   \n           C2017    UT   m  UT10783       Syr     300                5.0   \n           C2017    UT   m  UT10784       Syr     300                5.0   \n           C2017    UT   m  UT10785       Syr     300                5.0   \n\n                  status  dead  age(days)  \npopulation cohort                          \nUM-HET3    C2004    dead     1        896  \n           C2004    dead     1       1077  \n           C2004    dead     1        790  \n           C2004    dead     1        823  \n           C2004    dead     1        601  \n...                  ...   ...        ...  \n           C2017    dead     1        289  \n           C2017    dead     1        662  \n           C2017    dead     1        440  \n           C2017    dead     1        342  \n           C2017    dead     1        754  \n\n[27574 rows x 9 columns]",
      "text/html": "<div>\n<style scoped>\n    .dataframe tbody tr th:only-of-type {\n        vertical-align: middle;\n    }\n\n    .dataframe tbody tr th {\n        vertical-align: top;\n    }\n\n    .dataframe thead th {\n        text-align: right;\n    }\n</style>\n<table border=\"1\" class=\"dataframe\">\n  <thead>\n    <tr style=\"text-align: right;\">\n      <th></th>\n      <th></th>\n      <th>site</th>\n      <th>sex</th>\n      <th>id</th>\n      <th>group</th>\n      <th>Rx(ppm)</th>\n      <th>age_initiation(mo)</th>\n      <th>status</th>\n      <th>dead</th>\n      <th>age(days)</th>\n    </tr>\n    <tr>\n      <th>population</th>\n      <th>cohort</th>\n      <th></th>\n      <th></th>\n      <th></th>\n      <th></th>\n      <th></th>\n      <th></th>\n      <th></th>\n      <th></th>\n      <th></th>\n    </tr>\n  </thead>\n  <tbody>\n    <tr>\n      <th rowspan=\"11\" valign=\"top\">UM-HET3</th>\n      <th>C2004</th>\n      <td>TJL</td>\n      <td>m</td>\n      <td>JL00005</td>\n      <td>4-OH-PBN</td>\n      <td>315</td>\n      <td>4.0</td>\n      <td>dead</td>\n      <td>1</td>\n      <td>896</td>\n    </tr>\n    <tr>\n      <th>C2004</th>\n      <td>TJL</td>\n      <td>m</td>\n      <td>JL00006</td>\n      <td>4-OH-PBN</td>\n      <td>315</td>\n      <td>4.0</td>\n      <td>dead</td>\n      <td>1</td>\n      <td>1077</td>\n    </tr>\n    <tr>\n      <th>C2004</th>\n      <td>TJL</td>\n      <td>m</td>\n      <td>JL00007</td>\n      <td>4-OH-PBN</td>\n      <td>315</td>\n      <td>4.0</td>\n      <td>dead</td>\n      <td>1</td>\n      <td>790</td>\n    </tr>\n    <tr>\n      <th>C2004</th>\n      <td>TJL</td>\n      <td>f</td>\n      <td>JL00095</td>\n      <td>4-OH-PBN</td>\n      <td>315</td>\n      <td>4.0</td>\n      <td>dead</td>\n      <td>1</td>\n      <td>823</td>\n    </tr>\n    <tr>\n      <th>C2004</th>\n      <td>TJL</td>\n      <td>f</td>\n      <td>JL00096</td>\n      <td>4-OH-PBN</td>\n      <td>315</td>\n      <td>4.0</td>\n      <td>dead</td>\n      <td>1</td>\n      <td>601</td>\n    </tr>\n    <tr>\n      <th>...</th>\n      <td>...</td>\n      <td>...</td>\n      <td>...</td>\n      <td>...</td>\n      <td>...</td>\n      <td>...</td>\n      <td>...</td>\n      <td>...</td>\n      <td>...</td>\n    </tr>\n    <tr>\n      <th>C2017</th>\n      <td>UT</td>\n      <td>m</td>\n      <td>UT10744</td>\n      <td>Syr</td>\n      <td>300</td>\n      <td>5.0</td>\n      <td>dead</td>\n      <td>1</td>\n      <td>289</td>\n    </tr>\n    <tr>\n      <th>C2017</th>\n      <td>UT</td>\n      <td>m</td>\n      <td>UT10745</td>\n      <td>Syr</td>\n      <td>300</td>\n      <td>5.0</td>\n      <td>dead</td>\n      <td>1</td>\n      <td>662</td>\n    </tr>\n    <tr>\n      <th>C2017</th>\n      <td>UT</td>\n      <td>m</td>\n      <td>UT10783</td>\n      <td>Syr</td>\n      <td>300</td>\n      <td>5.0</td>\n      <td>dead</td>\n      <td>1</td>\n      <td>440</td>\n    </tr>\n    <tr>\n      <th>C2017</th>\n      <td>UT</td>\n      <td>m</td>\n      <td>UT10784</td>\n      <td>Syr</td>\n      <td>300</td>\n      <td>5.0</td>\n      <td>dead</td>\n      <td>1</td>\n      <td>342</td>\n    </tr>\n    <tr>\n      <th>C2017</th>\n      <td>UT</td>\n      <td>m</td>\n      <td>UT10785</td>\n      <td>Syr</td>\n      <td>300</td>\n      <td>5.0</td>\n      <td>dead</td>\n      <td>1</td>\n      <td>754</td>\n    </tr>\n  </tbody>\n</table>\n<p>27574 rows × 9 columns</p>\n</div>"
     },
     "execution_count": 6,
     "metadata": {},
     "output_type": "execute_result"
    }
   ],
   "source": [
    "csv_input = pd.read_csv(\n",
    "    \"Lifespans_ITP1.csv\",\n",
    "    skiprows=0,\n",
    "    sep=\";\",\n",
    "    index_col=[0, 1],\n",
    "    skipfooter=0,\n",
    "    engine=\"python\",\n",
    "    decimal=\",\",\n",
    ")\n",
    "csv_input"
   ],
   "metadata": {
    "collapsed": false,
    "ExecuteTime": {
     "end_time": "2023-12-05T06:57:29.870925Z",
     "start_time": "2023-12-05T06:57:29.534575Z"
    }
   },
   "id": "a6b16bfc4cef85a7"
  },
  {
   "cell_type": "code",
   "execution_count": null,
   "outputs": [],
   "source": [],
   "metadata": {
    "collapsed": false
   },
   "id": "234e8f2eba8fdb38"
  }
 ],
 "metadata": {
  "kernelspec": {
   "display_name": "Python 3",
   "language": "python",
   "name": "python3"
  },
  "language_info": {
   "codemirror_mode": {
    "name": "ipython",
    "version": 2
   },
   "file_extension": ".py",
   "mimetype": "text/x-python",
   "name": "python",
   "nbconvert_exporter": "python",
   "pygments_lexer": "ipython2",
   "version": "2.7.6"
  }
 },
 "nbformat": 4,
 "nbformat_minor": 5
}
